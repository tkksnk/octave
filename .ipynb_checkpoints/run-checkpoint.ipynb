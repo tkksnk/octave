{
 "cells": [
  {
   "cell_type": "code",
   "execution_count": 3,
   "metadata": {},
   "outputs": [],
   "source": [
    "addpath /usr/lib/dynare/matlab"
   ]
  },
  {
   "cell_type": "code",
   "execution_count": 4,
   "metadata": {},
   "outputs": [
    {
     "name": "stdout",
     "output_type": "stream",
     "text": [
      "Created file 'C:\\Users\\takeki\\rck.mod'.\n"
     ]
    }
   ],
   "source": [
    "%%file rck.mod\n",
    "// rck.mod\n",
    "// ラムゼイモデル\n",
    "\n",
    "// 変数等の宣言\n",
    "var c k; // 内生変数\n",
    "varexo a; // 外生変数\n",
    "parameters alpha delta beta; // パラメータ\n",
    "\n",
    "// パラメータに値を代入\n",
    "alpha = 1/3;\n",
    "delta = 0.1;\n",
    "beta = 0.96;\n",
    "Abar = 1.0;\n",
    "\n",
    "// 定常状態の値（解析的）\n",
    "kss = (alpha*beta*Abar/(1-beta*(1-delta)))^(1/(1-alpha));\n",
    "yss = Abar*kss^alpha;\n",
    "css = yss - delta*kss;\n",
    "ykss = yss/kss;\n",
    "\n",
    "// モデル\n",
    "model;\n",
    "\n",
    "1/c = beta/c(+1)*(1+alpha*exp(a(+1))*k^(alpha-1)-delta);\n",
    "c + k = exp(a)*k(-1)^alpha + (1-delta)*k(-1);\n",
    "\n",
    "end;\n",
    "\n",
    "// 定常状態を数値的に求める\n",
    "// 初期値\n",
    "initval;\n",
    "k = 1.0;\n",
    "c = 1.0;\n",
    "end;\n",
    "\n",
    "steady;\n",
    "\n",
    "// シミュレーション\n",
    "// シミュレーションの初期値\n",
    "initval;\n",
    "k = 0.2;\n",
    "end;\n",
    "\n",
    "simul(periods=150);\n",
    "\n",
    "// 位相図\n",
    "figure;\n",
    "plot(k(1:100),c(2:101),'*');\n",
    "hold on;\n",
    "kvec = linspace(0.1,5.0,101)';\n",
    "gkvec = kvec.^alpha - delta*kvec;\n",
    "plot(kvec,gkvec);\n",
    "plot([kss kss],[0 2.0]);\n"
   ]
  },
  {
   "cell_type": "code",
   "execution_count": 6,
   "metadata": {},
   "outputs": [
    {
     "name": "stdout",
     "output_type": "stream",
     "text": [
      "Using 64-bit preprocessor\n",
      "Starting Dynare (version 4.6.2).\n",
      "Calling Dynare with arguments: none\n",
      "Starting preprocessing of the model file ...\n",
      "WARNING: rck.mod:44.1-19: The 'simul' statement is deprecated. Please use 'perfect_foresight_setup' and 'perfect_foresight_solver' instead.\n",
      "Found 2 equation(s).\n",
      "Evaluating expressions...done\n",
      "Computing static model derivatives (order 1).\n",
      "Computing dynamic model derivatives (order 1).\n",
      "Processing outputs ...\n",
      "done\n",
      "Preprocessing completed.\n",
      "\n",
      "\n",
      "STEADY-STATE RESULTS:\n",
      "\n",
      "c \t\t 1.17301\n",
      "k \t\t 3.60923\n",
      "\n",
      "--------------------------------------------------------\n",
      "MODEL SIMULATION:\n",
      "\n",
      "Iter: 1,\t err. = 0.681741,\t time = 0.0655975\n",
      "Iter: 2,\t err. = 1.17437,\t time = 0.0594711\n",
      "Iter: 3,\t err. = 0.434613,\t time = 0.0576248\n",
      "Iter: 4,\t err. = 0.0823069,\t time = 0.0571136\n",
      "Iter: 5,\t err. = 0.0376511,\t time = 0.0593109\n",
      "Iter: 6,\t err. = 0.0130484,\t time = 0.057251\n",
      "Iter: 7,\t err. = 0.000734719,\t time = 0.0574265\n",
      "Iter: 8,\t err. = 1.57325e-06,\t time = 0.0574188\n",
      "\n",
      "Total time of simulation: 0.478691.\n",
      "--------------------------------------------------------\n",
      "\n",
      "Perfect foresight solution found.\n",
      "\n",
      "Total computing time : 0h00m01s\n",
      "Note: 1 warning(s) encountered in the preprocessor\n"
     ]
    },
    {
     "data": {
      "image/png": "[encoded data removed]",
      "text/plain": [
       "<IPython.core.display.Image object>"
      ]
     },
     "metadata": {},
     "output_type": "display_data"
    }
   ],
   "source": [
    "dynare rck"
   ]
  }
 ],
 "metadata": {
  "kernelspec": {
   "display_name": "Octave",
   "language": "octave",
   "name": "octave"
  },
  "language_info": {
   "file_extension": ".m",
   "help_links": [
    {
     "text": "GNU Octave",
     "url": "https://www.gnu.org/software/octave/support.html"
    },
    {
     "text": "Octave Kernel",
     "url": "https://github.com/Calysto/octave_kernel"
    },
    {
     "text": "MetaKernel Magics",
     "url": "https://metakernel.readthedocs.io/en/latest/source/README.html"
    }
   ],
   "mimetype": "text/x-octave",
   "name": "octave",
   "version": "5.2.0"
  }
 },
 "nbformat": 4,
 "nbformat_minor": 4
}
